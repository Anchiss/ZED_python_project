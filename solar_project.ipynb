{
 "cells": [
  {
   "cell_type": "markdown",
   "metadata": {
    "collapsed": true
   },
   "source": [
    "# Predykcja energii słonecznej, wytwarzanej przez panele fotowoltaiczne\n",
    "\n",
    "Katarzyna Boczek 117317\n",
    "\n",
    "## Biblioteki\n",
    "Do wykonania zadania wykorzystano następujące biblioteki:"
   ]
  },
  {
   "cell_type": "code",
   "execution_count": 1,
   "metadata": {},
   "outputs": [],
   "source": [
    "import pandas as pd\n",
    "import numpy as np\n",
    "import time\n",
    "\n",
    "from sklearn.ensemble import BaggingRegressor\n",
    "from sklearn.ensemble import RandomForestRegressor"
   ]
  },
  {
   "cell_type": "markdown",
   "metadata": {},
   "source": [
    "## Wczytanie zbiorów danych\n",
    "W pierwszym kroku wczytano zbiór uczący oraz zbiór testowy."
   ]
  },
  {
   "cell_type": "code",
   "execution_count": 2,
   "metadata": {},
   "outputs": [],
   "source": [
    "train_df = pd.read_csv(\"train.csv\", sep=\",\")\n",
    "test_df = pd.read_csv(\"test.csv\", sep=\",\")"
   ]
  },
  {
   "cell_type": "markdown",
   "metadata": {},
   "source": [
    "## Przetworzenie wartości pustych\n",
    "Ilość wytwarzanej energii jest uzależniona od promieniowania słonecznego. Jeśli ilość wytworznej energii jest większa od zera (`kwh > 0`) a wartość promieniowania słonecznego jest zerowa (`irradiamento = 0`) to należy uznać to za wartość brakującą. Wartości te uzupełniono średnią wartością promieniowania o danej godzinie w danym dniu."
   ]
  },
  {
   "cell_type": "code",
   "execution_count": 3,
   "metadata": {},
   "outputs": [],
   "source": [
    "missing = train_df[(train_df[\"irradiamento\"] == 0) & (train_df[\"kwh\"] > 0)]\n",
    "occurring = train_df[~train_df.isin(missing)].dropna()\n",
    "\n",
    "def set_value(row):\n",
    "    similar_data = train_df[train_df[\"data\"] == row[\"data\"]]\n",
    "    row[\"irradiamento\"] = np.mean(similar_data[\"irradiamento\"])\n",
    "    return row\n",
    "\n",
    "missing = missing.apply(set_value, axis=1)\n",
    "\n",
    "train_df = occurring.append(missing)"
   ]
  },
  {
   "cell_type": "markdown",
   "metadata": {},
   "source": [
    "## Przygotowanie zbioru uczącego i testowego\n",
    "Model oraz predykcję energii oparto o pięć zmiennych najbardziej skorelowanych z wytwarzaną energią."
   ]
  },
  {
   "cell_type": "code",
   "execution_count": 4,
   "metadata": {},
   "outputs": [],
   "source": [
    "x_train = train_df.loc[:, [\"irradiamento\", \"irri\", \"irr_pvgis_mod\", \"humidity\", \"azimuthi\"]]\n",
    "y_train = train_df[\"kwh\"]\n",
    "\n",
    "x_test = test_df.loc[:, [\"irradiamento\", \"irri\", \"irr_pvgis_mod\", \"humidity\", \"azimuthi\"]]"
   ]
  },
  {
   "cell_type": "markdown",
   "metadata": {},
   "source": [
    "## Stworzenie i nauczenie modelu\n",
    "Przetestowano różne modele, np. model regresji liniowej, aproksymację wielomianową czy drzewo decyzyjne. Ostatecznie zdecydowano się na model Random Forest w połączeniu z baggingiem mimo, iż nie osiągnął on najlepszych rezultatów w publicznym rankingu konkursu. Na podstawie testów przeprowadzonych na zbiorze walidacyjnym stwierdzono, że model ten w ogólności osiąga lepsze wyniki. Ustawienie parametru `random_state = 3` zapewnia powtarzalność wyników."
   ]
  },
  {
   "cell_type": "code",
   "execution_count": 6,
   "metadata": {},
   "outputs": [
    {
     "data": {
      "text/plain": [
       "BaggingRegressor(base_estimator=RandomForestRegressor(bootstrap=True, criterion='mse', max_depth=None,\n           max_features='auto', max_leaf_nodes=None,\n           min_impurity_decrease=0.0, min_impurity_split=None,\n           min_samples_leaf=1, min_samples_split=2,\n           min_weight_fraction_leaf=0.0, n_estimators=10, n_jobs=1,\n           oob_score=False, random_state=3, verbose=0, warm_start=False),\n         bootstrap=True, bootstrap_features=False, max_features=1.0,\n         max_samples=1.0, n_estimators=10, n_jobs=1, oob_score=False,\n         random_state=3, verbose=0, warm_start=False)"
      ]
     },
     "execution_count": 6,
     "metadata": {},
     "output_type": "execute_result"
    }
   ],
   "source": [
    "regressor = BaggingRegressor(base_estimator=RandomForestRegressor(random_state=3), random_state=3)\n",
    "regressor.fit(x_train, y_train)"
   ]
  },
  {
   "cell_type": "markdown",
   "metadata": {},
   "source": [
    "## Predykcja\n",
    "Posiadając nauczony model przystąpiono do predykcji wytworzonej energii."
   ]
  },
  {
   "cell_type": "code",
   "execution_count": 7,
   "metadata": {},
   "outputs": [],
   "source": [
    "y_test = regressor.predict(x_test)"
   ]
  },
  {
   "cell_type": "markdown",
   "metadata": {},
   "source": [
    "## Przygotowanie wyników do zapisu\n",
    "Przed zapisaniem wyników odpowiednio je sformatowano. Do identyfikatorów pomiarów doklejono przewidzianą dla nich ilość wytworzonej energii. Dodano również odpowiedni nagłówek."
   ]
  },
  {
   "cell_type": "code",
   "execution_count": 8,
   "metadata": {},
   "outputs": [],
   "source": [
    "results_df = pd.DataFrame(test_df[\"id\"])\n",
    "results_df[\"kwh\"] = y_test\n",
    "results_df.columns = [\"Id\", \"kwh\"]"
   ]
  },
  {
   "cell_type": "markdown",
   "metadata": {},
   "source": [
    "## Zapis wyników do pliku\n",
    "Wyniki zapisano do pliku `csv`, który w nazwie posiada timestamp wygenerowania tegoż wyniku."
   ]
  },
  {
   "cell_type": "code",
   "execution_count": 9,
   "metadata": {},
   "outputs": [],
   "source": [
    "results_filename = \"results_\" + time.strftime(\"%Y%m%d-%H%M%S\") + \".csv\"\n",
    "results_df.to_csv(results_filename, index=False)"
   ]
  },
  {
   "cell_type": "markdown",
   "metadata": {},
   "source": []
  }
 ],
 "metadata": {
  "kernelspec": {
   "display_name": "Python 2",
   "language": "python",
   "name": "python2"
  },
  "language_info": {
   "codemirror_mode": {
    "name": "ipython",
    "version": 2
   },
   "file_extension": ".py",
   "mimetype": "text/x-python",
   "name": "python",
   "nbconvert_exporter": "python",
   "pygments_lexer": "ipython2",
   "version": "2.7.6"
  }
 },
 "nbformat": 4,
 "nbformat_minor": 0
}
